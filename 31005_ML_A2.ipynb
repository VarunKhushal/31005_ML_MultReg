{
  "nbformat": 4,
  "nbformat_minor": 0,
  "metadata": {
    "colab": {
      "name": "31005 ML A2.ipynb",
      "provenance": [],
      "authorship_tag": "ABX9TyO7Z405M3ocHMxBXzRAEj0D",
      "include_colab_link": true
    },
    "kernelspec": {
      "name": "python3",
      "display_name": "Python 3"
    }
  },
  "cells": [
    {
      "cell_type": "markdown",
      "metadata": {
        "id": "view-in-github",
        "colab_type": "text"
      },
      "source": [
        "<a href=\"https://colab.research.google.com/github/VarunKhushal/31005_ML_MultReg/blob/master/31005_ML_A2.ipynb\" target=\"_parent\"><img src=\"https://colab.research.google.com/assets/colab-badge.svg\" alt=\"Open In Colab\"/></a>"
      ]
    },
    {
      "cell_type": "markdown",
      "metadata": {
        "id": "4Pfd-yojA7HD"
      },
      "source": [
        "**Implementation of the Multiple Linear Regression Algorithm**"
      ]
    },
    {
      "cell_type": "markdown",
      "metadata": {
        "id": "2ql_LMoPBX_h"
      },
      "source": [
        "Model Set-Up\n",
        "\n",
        "> This is to set up the model by importing relevant packages/libraries and reading in the data\n",
        "\n",
        "\n"
      ]
    },
    {
      "cell_type": "code",
      "metadata": {
        "id": "v6bCUoF6rPN1"
      },
      "source": [
        "import pandas as pd\n",
        "import matplotlib.pyplot as plt \n",
        "import seaborn as sns\n",
        "import numpy as np\n",
        "import math\n",
        "from sklearn.model_selection import train_test_split\n",
        "\n",
        "url = 'https://raw.githubusercontent.com/VarunKhushal/31005_ML_MultReg/master/audi.csv'\n",
        "car_price = pd.read_csv(url)\n",
        "print(\"Dataset Set-up Success\")"
      ],
      "execution_count": null,
      "outputs": []
    },
    {
      "cell_type": "markdown",
      "metadata": {
        "id": "LGKq0AZJBxd3"
      },
      "source": [
        "Data Understanding\n",
        "\n",
        "\n",
        "> Understand the dataset as a whole \n",
        "\n"
      ]
    },
    {
      "cell_type": "code",
      "metadata": {
        "id": "YWjVYdSeAT1z"
      },
      "source": [
        "#view the first 5 rows in the dataset\n",
        "car_price.head()\n",
        "#Check for missing values\n",
        "car_price.isna().sum()\n",
        "#describe and find shape of the data\n",
        "car_price.describe()\n",
        "car_price.shape\n",
        "#create a correlation matrix that shows the correlation between all numerical attributes\n",
        "corr=car_price.corr()\n",
        "corr.style.background_gradient(cmap=\"RdYlGn\")\n",
        "#Create graphs for the numerical data\n",
        "sns.pairplot(car_price)"
      ],
      "execution_count": null,
      "outputs": []
    },
    {
      "cell_type": "markdown",
      "metadata": {
        "id": "jiGgHO7iAUjv"
      },
      "source": [
        "Data Preprocessing\n",
        "> Preprocess and clean the data before using the data in the model\n"
      ]
    },
    {
      "cell_type": "code",
      "metadata": {
        "id": "OSiCqh-6ttO3"
      },
      "source": [
        "#drop the columns that does will not be helpful based on correlation matrix and understanding of attributes\n",
        "car_price['car_age']= 2020-car_price['year']\n",
        "car_price = car_price.drop(['model','year'],axis=1)\n",
        "\n",
        "#Remove Outliers\n",
        "car_price.drop(index=car_price[car_price[\"mileage\"]>160000].index,inplace=True)\n",
        "car_price.drop(index=car_price[car_price[\"mileage\"]<1000].index,inplace=True)\n",
        "car_price.drop(index=car_price[car_price[\"engineSize\"]==0].index,inplace=True)\n",
        "car_price.drop(index=car_price[car_price[\"price\"]<5000].index,inplace=True)\n",
        "car_price.drop(index=car_price[car_price[\"tax\"]<100].index,inplace=True)\n",
        "car_price.drop(index=car_price[car_price[\"mpg\"]>85].index,inplace=True)\n",
        "car_price.drop(index=car_price[car_price[\"engineSize\"]>4].index,inplace=True)\n",
        "\n",
        "#Data Transformation and Creation of New Variables\n",
        "car_price['price']=np.log(car_price['price'])\n",
        "car_price['mileage']=np.log(car_price['mileage'])\n",
        "car_price['mileage_age']= car_price['mileage'] * car_price['car_age']\n",
        "\n",
        "#get a list of all columns that are numerical and categorical\n",
        "num_col = car_price.select_dtypes(exclude=['object']).columns\n",
        "cat_col = car_price.select_dtypes(include=['object']).columns\n",
        "\n",
        "#transform categorical variables into dummy variables\n",
        "dummy_var = pd.get_dummies(car_price[cat_col])\n",
        "dummy_var.shape\n",
        "dummy_var.head()\n",
        "\n",
        "#add new variables to the original dataset\n",
        "car_price = pd.concat([car_price[num_col], dummy_var], axis=1)\n",
        "car_price.head()\n",
        "\n",
        "#Create graphs for the transformed data\n",
        "sns.pairplot(car_price)\n",
        "\n",
        "#create a correlation matrix that shows the correlation between all numerical attributes and the transformed categorical variables\n",
        "corr=car_price.corr()\n",
        "corr.style.background_gradient(cmap=\"RdYlGn\")\n",
        "\n",
        "#Remove variables that have a correlation in the range of -0.45 to 0.45\n",
        "car_price_v1 = car_price.drop(['tax','transmission_Manual','transmission_Automatic','transmission_Semi-Auto','fuelType_Diesel','fuelType_Petrol'],axis=1)\n",
        "\n",
        "#Re-run correlation matrix with the variables\n",
        "corr=car_price_v1.corr()\n",
        "corr.style.background_gradient(cmap=\"RdYlGn\")"
      ],
      "execution_count": null,
      "outputs": []
    },
    {
      "cell_type": "markdown",
      "metadata": {
        "id": "1OZQcUDpCEuM"
      },
      "source": [
        "Algorithm Implementation\n",
        "\n",
        "> Finish setting up the dataset\n",
        "\n",
        "\n",
        "\n"
      ]
    },
    {
      "cell_type": "code",
      "metadata": {
        "id": "nQuUqFrHCXjq",
        "outputId": "e4e18c88-d245-4bcd-9132-9e8fde6767b2",
        "colab": {
          "base_uri": "https://localhost:8080/",
          "height": 34
        }
      },
      "source": [
        "#Dataset Set Up\n",
        "Y_df = car_price_v1['price']\n",
        "X_df = car_price_v1.drop(['price'],axis=1)\n",
        "\n",
        "Y = Y_df.values\n",
        "X = X_df.values\n",
        "\n",
        "#Split Dataset into Train and Test\n",
        "X_train, X_test, y_train, y_test = train_test_split(X, Y, test_size=0.20, random_state=1)\n",
        "print(X_train.shape, X_test.shape, y_train.shape, y_test.shape)"
      ],
      "execution_count": null,
      "outputs": [
        {
          "output_type": "stream",
          "text": [
            "(6198, 5) (1550, 5) (6198,) (1550,)\n"
          ],
          "name": "stdout"
        }
      ]
    },
    {
      "cell_type": "markdown",
      "metadata": {
        "id": "LoF5I-pj9qat"
      },
      "source": [
        "> Class to implement the key aspects of the Ordinary Least Squares procedure\n",
        "\n"
      ]
    },
    {
      "cell_type": "code",
      "metadata": {
        "id": "HX8DSiZQszan",
        "outputId": "eafb5f78-af16-4d93-864d-a998b46ea2b2",
        "colab": {
          "base_uri": "https://localhost:8080/",
          "height": 235
        }
      },
      "source": [
        "#create a class for the beta coefficients of the model and make predictions using the Ordinary Least Squares procedure\n",
        "class OrdinaryLeastSquares(object):\n",
        "\n",
        "# Create empty array\n",
        "  def __init__(self):\n",
        "    self.coefficients = []\n",
        "    self.y_predictions = []\n",
        "    self.standard_error = []\n",
        "    self.residuals_y = []\n",
        "    self.t_test = []\n",
        "    self.model_table = []\n",
        "    \n",
        "# Matrix Calculation for the Beta Coefficients - B = (X' * X)^-1 * X' * Y  \n",
        "  def fit(self, X, y):\n",
        "    X = self.add_ones(X)\n",
        "    self.coefficients = np.linalg.inv(X.transpose().dot(X)).dot(X.transpose()).dot(y)\n",
        "\n",
        "#Add a new column of ones to the first column in Matrix X\n",
        "  def add_ones(self, X):\n",
        "    ones = np.ones(shape=X.shape[0]).reshape(-1,1)\n",
        "    return np.concatenate((ones, X), 1)\n",
        "\n",
        "#Using the predicted coefficients, append the predictions into an array\n",
        "  def predict_y(self, X):\n",
        "    for row in X: self.y_predictions.append(self.predict(row))\n",
        "\n",
        "#Create the regression equation to predict the value of price for each row\n",
        "  def predict(self, entry):\n",
        "    b0 = self.coefficients[0]\n",
        "    prediction_betas = self.coefficients[1:]\n",
        "    predictions = b0\n",
        "\n",
        "    for x_i, b_i in zip(entry, prediction_betas): predictions += (b_i * x_i)\n",
        "    return predictions\n",
        "\n",
        "#Standard Error Calculation \n",
        "  def std_error(self, X, Y):\n",
        "    num_obs = len(X)\n",
        "    num_col = len(X[0])\n",
        "    deg_free = num_obs - num_col -1\n",
        "\n",
        "    p_1 = np.asarray(self.residuals(Y, self.y_predictions)/deg_free)\n",
        "    X = self.add_ones(X)\n",
        "\n",
        "    s_e = np.dot(p_1,self.std_e_matrix(X))\n",
        "    self.standard_error = np.diagonal(s_e)\n",
        "  \n",
        "# Matrix Calculation for the Standard Error - X = (X' * X)^-1 \n",
        "  def std_e_matrix(self, X):\n",
        "    matrix_x = np.linalg.inv(X.transpose().dot(X))\n",
        "    return matrix_x\n",
        "\n",
        "#Sum of Y Residuals   \n",
        "  def residuals(self, y, y_predictions):\n",
        "    y_resid = (y-self.y_predictions)**2\n",
        "    y_sum = np.sum(y_resid)\n",
        "    return y_sum\n",
        "\n",
        "#T-Test\n",
        "  def t_test_table (self):\n",
        "    std_error = self.standard_error.transpose()\n",
        "    beta_c = self.coefficients.transpose()\n",
        "\n",
        "    data_t = [beta_c,std_error]\n",
        "\n",
        "    new_df = pd.DataFrame(data=data_t)\n",
        "    self.t_test= new_df.transpose()\n",
        "    self.t_test = self.t_test.rename(columns={0:\"Coefficient\",1:\"Stnd Error\"})\n",
        "    self.t_test[\"t_value\"] = self.t_test[\"Coefficient\"]/self.t_test[\"Stnd Error\"]\n",
        "\n",
        "# Observed and Predictions Table\n",
        "  def final_model_table (self, y_values):\n",
        "    y_predictions = np.array(self.y_predictions)\n",
        "    table = [y_values, y_predictions]\n",
        "    table = pd.DataFrame(data=table)\n",
        "    self.model_table = table.transpose()\n",
        "    self.model_table = self.model_table.rename(columns={0:\"Observed\",1:\"Predicted\"})\n",
        "\n",
        "model = OrdinaryLeastSquares()\n",
        "model.fit(X_train,y_train)\n",
        "model.predict_y(X_train)\n",
        "model.std_error(X_train,y_train)\n",
        "model.t_test_table()\n",
        "\n",
        "y1 = model.y_predictions\n",
        "x1 = model.coefficients\n",
        "model.t_test"
      ],
      "execution_count": null,
      "outputs": [
        {
          "output_type": "execute_result",
          "data": {
            "text/html": [
              "<div>\n",
              "<style scoped>\n",
              "    .dataframe tbody tr th:only-of-type {\n",
              "        vertical-align: middle;\n",
              "    }\n",
              "\n",
              "    .dataframe tbody tr th {\n",
              "        vertical-align: top;\n",
              "    }\n",
              "\n",
              "    .dataframe thead th {\n",
              "        text-align: right;\n",
              "    }\n",
              "</style>\n",
              "<table border=\"1\" class=\"dataframe\">\n",
              "  <thead>\n",
              "    <tr style=\"text-align: right;\">\n",
              "      <th></th>\n",
              "      <th>Coefficient</th>\n",
              "      <th>Stnd Error</th>\n",
              "      <th>t_value</th>\n",
              "    </tr>\n",
              "  </thead>\n",
              "  <tbody>\n",
              "    <tr>\n",
              "      <th>0</th>\n",
              "      <td>10.002855</td>\n",
              "      <td>6.723306e-04</td>\n",
              "      <td>14877.881338</td>\n",
              "    </tr>\n",
              "    <tr>\n",
              "      <th>1</th>\n",
              "      <td>0.015701</td>\n",
              "      <td>9.489628e-06</td>\n",
              "      <td>1654.587890</td>\n",
              "    </tr>\n",
              "    <tr>\n",
              "      <th>2</th>\n",
              "      <td>-0.011175</td>\n",
              "      <td>6.162020e-08</td>\n",
              "      <td>-181346.327403</td>\n",
              "    </tr>\n",
              "    <tr>\n",
              "      <th>3</th>\n",
              "      <td>0.346234</td>\n",
              "      <td>1.199943e-05</td>\n",
              "      <td>28854.230366</td>\n",
              "    </tr>\n",
              "    <tr>\n",
              "      <th>4</th>\n",
              "      <td>0.219056</td>\n",
              "      <td>1.550133e-04</td>\n",
              "      <td>1413.140444</td>\n",
              "    </tr>\n",
              "    <tr>\n",
              "      <th>5</th>\n",
              "      <td>-0.032453</td>\n",
              "      <td>1.328950e-06</td>\n",
              "      <td>-24419.987446</td>\n",
              "    </tr>\n",
              "  </tbody>\n",
              "</table>\n",
              "</div>"
            ],
            "text/plain": [
              "   Coefficient    Stnd Error        t_value\n",
              "0    10.002855  6.723306e-04   14877.881338\n",
              "1     0.015701  9.489628e-06    1654.587890\n",
              "2    -0.011175  6.162020e-08 -181346.327403\n",
              "3     0.346234  1.199943e-05   28854.230366\n",
              "4     0.219056  1.550133e-04    1413.140444\n",
              "5    -0.032453  1.328950e-06  -24419.987446"
            ]
          },
          "metadata": {
            "tags": []
          },
          "execution_count": 5
        }
      ]
    },
    {
      "cell_type": "markdown",
      "metadata": {
        "id": "ohsNH_tFX-8f"
      },
      "source": [
        "\n",
        "\n",
        "> Evaluate the Final Model \n",
        "\n",
        "\n"
      ]
    },
    {
      "cell_type": "code",
      "metadata": {
        "id": "FR0ZJ0VvYFLw"
      },
      "source": [
        "#create a class to evaluate the final model\n",
        "class Evaluation(object):\n",
        "\n",
        "#RMSE\n",
        "  def RMSE(self, y, y_predictions):\n",
        "    y_resid = (y_predictions-y)**2\n",
        "    y_sum = np.sum(y_resid)\n",
        "    RMSE = np.sqrt(y_sum/len(y))\n",
        "    return RMSE\n",
        "\n",
        "#R-Sq\n",
        "  def R_Square(self, y, y_predictions):\n",
        "    y_resid = (y-y_predictions)**2\n",
        "    y_sum_a = np.sum(y_resid)\n",
        "\n",
        "    SST= (y- np.mean(y))**2\n",
        "    y_sum_b = np.sum(SST)\n",
        "    R_Sq = 1-(y_sum_a/y_sum_b)\n",
        "    return R_Sq\n",
        "\n",
        "#R-Sq Adj\n",
        "  def R_Sq_Adj(self, X, y, y_predictions):\n",
        "    n = len(y)\n",
        "    m = len(X[0])\n",
        "\n",
        "    R_Sq_Adj = 1 - ((1-self.R_Square(y, y_predictions))*n-1)/(n-m-1)\n",
        "    return R_Sq_Adj\n",
        "\n",
        "#Create a predicted value residual plot\n",
        "  def pred_value_plot (self, y, pred_y):\n",
        "    y_resid = y-pred_y\n",
        "    plt.figure(figsize=(8,8))\n",
        "    plt.title('Residuals')\n",
        "    return plt.plot(pred_y, y_resid, 'o',color='black')\n",
        "\n",
        "#Create a normality histogram\n",
        "  def normality_histogram (self, y, pred_y):\n",
        "    residuals = y-pred_y\n",
        "    plt.figure(figsize=(8,8))\n",
        "    return sns.displot(residuals, kde=True)\n",
        "\n",
        "model_E = Evaluation()\n",
        "model_E.RMSE(y_train,y1)\n",
        "model_E.R_Sq_Adj(X_train, y_train,y1)\n",
        "model_E.R_Square( y_train,y1)\n",
        "model_E.pred_value_plot(y_train,y1)\n",
        "model_E.normality_histogram(y_train,y1)"
      ],
      "execution_count": null,
      "outputs": []
    },
    {
      "cell_type": "markdown",
      "metadata": {
        "id": "dsmUQ0T3YFt-"
      },
      "source": [
        "\n",
        "\n",
        "> Run Regression using the Test Data and Evaluate the Model\n",
        "\n"
      ]
    },
    {
      "cell_type": "code",
      "metadata": {
        "id": "eKANjU5_X_kW"
      },
      "source": [
        "#Run OLS Model\n",
        "model_main = OrdinaryLeastSquares()\n",
        "model_main.fit(X_test,y_test)\n",
        "model_main.predict_y(X_test)\n",
        "model_main.std_error(X_test,y_test)\n",
        "model_main.t_test_table()\n",
        "model_main.final_model_table(y_test)\n",
        "model_main.t_test\n",
        "model_main.model_table\n",
        "\n",
        "y1 = model_main.y_predictions\n",
        "\n",
        "#Run Evaluation\n",
        "model_Evaluation = Evaluation()\n",
        "print(\"The RMSE value is \" + str(model_Evaluation.RMSE(y_test,y1)))\n",
        "print(\"The R2 Adjusted value is \" + str(model_Evaluation.R_Sq_Adj(X_test, y_test,y1)))\n",
        "model_Evaluation.R_Square(y_test,y1)\n",
        "model_Evaluation.pred_value_plot(y_test,y1)\n",
        "model_Evaluation.normality_histogram(y_test,y1)"
      ],
      "execution_count": null,
      "outputs": []
    }
  ]
}